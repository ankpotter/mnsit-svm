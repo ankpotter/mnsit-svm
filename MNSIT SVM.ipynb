{
 "cells": [
  {
   "cell_type": "code",
   "execution_count": 13,
   "metadata": {},
   "outputs": [],
   "source": [
    "from sklearn.pipeline import Pipeline\n",
    "from sklearn import preprocessing\n",
    "from sklearn import svm, metrics\n",
    "from sklearn import datasets"
   ]
  },
  {
   "cell_type": "code",
   "execution_count": 1,
   "metadata": {},
   "outputs": [],
   "source": [
    "digits = datasets.load_digits()"
   ]
  },
  {
   "cell_type": "code",
   "execution_count": 2,
   "metadata": {
    "collapsed": true
   },
   "outputs": [
    {
     "data": {
      "image/png": "[encoded data removed]",
      "text/plain": [
       "<matplotlib.figure.Figure at 0x91f0a58>"
      ]
     },
     "metadata": {},
     "output_type": "display_data"
    }
   ],
   "source": [
    "%matplotlib inline\n",
    "import matplotlib.pyplot as plt\n",
    "\n",
    "##print a few images to look at the dataset\n",
    "images_number = 5\n",
    "images_and_labels = list(zip(digits.images, digits.target))\n",
    "\n",
    "for i, (image, label) in enumerate(images_and_labels[:images_number]):\n",
    "    plt.subplot(2, images_number, i + 1)\n",
    "    plt.axis('off')\n",
    "    plt.imshow(image, cmap=plt.cm.gray_r, interpolation='nearest')\n",
    "    plt.title('%i' % label)"
   ]
  },
  {
   "cell_type": "code",
   "execution_count": 3,
   "metadata": {
    "collapsed": true
   },
   "outputs": [
    {
     "name": "stdout",
     "output_type": "stream",
     "text": [
      "[ 0.  0.  5. 13.  9.  1.  0.  0.  0.  0. 13. 15. 10. 15.  5.  0.  0.  3.\n",
      " 15.  2.  0. 11.  8.  0.  0.  4. 12.  0.  0.  8.  8.  0.  0.  5.  8.  0.\n",
      "  0.  9.  8.  0.  0.  4. 11.  0.  1. 12.  7.  0.  0.  2. 14.  5. 10. 12.\n",
      "  0.  0.  0.  0.  6. 13. 10.  0.  0.  0.]\n"
     ]
    },
    {
     "data": {
      "text/plain": [
       "0"
      ]
     },
     "execution_count": 3,
     "metadata": {},
     "output_type": "execute_result"
    }
   ],
   "source": [
    "## looking at one data point\n",
    "print(digits.data[0])\n",
    "digits.target[0]"
   ]
  },
  {
   "cell_type": "code",
   "execution_count": 4,
   "metadata": {
    "collapsed": true
   },
   "outputs": [
    {
     "name": "stdout",
     "output_type": "stream",
     "text": [
      "Number of samples: 1797\n"
     ]
    }
   ],
   "source": [
    "samples_count = len(digits.images)\n",
    "print(\"Number of samples: \" + str(samples_count))"
   ]
  },
  {
   "cell_type": "code",
   "execution_count": 14,
   "metadata": {
    "collapsed": true
   },
   "outputs": [
    {
     "name": "stdout",
     "output_type": "stream",
     "text": [
      "Number of training records: 1257\n",
      "Number of testing records : 360\n",
      "Number of blind records : 180\n"
     ]
    }
   ],
   "source": [
    "#split data into training, test, and blind sets.\n",
    "train_data = digits.data[: int(0.7*samples_count)]\n",
    "train_labels = digits.target[: int(0.7*samples_count)]\n",
    "\n",
    "test_data = digits.data[int(0.7*samples_count): int(0.9*samples_count)]\n",
    "test_labels = digits.target[int(0.7*samples_count): int(0.9*samples_count)]\n",
    "\n",
    "blind_data = digits.data[int(0.9*samples_count): ]\n",
    "\n",
    "print(\"Number of training records: \" + str(len(train_data)))\n",
    "print(\"Number of testing records : \" + str(len(test_data)))\n",
    "print(\"Number of blind records : \" + str(len(score_data)))"
   ]
  },
  {
   "cell_type": "code",
   "execution_count": 20,
   "metadata": {},
   "outputs": [],
   "source": [
    "## create the model and normalise the data points\n",
    "clf = svm.SVC(kernel='rbf')\n",
    "scaler = preprocessing.StandardScaler()\n",
    "pipeline = Pipeline([('scaler', scaler), ('svc', clf)])\n",
    "model = pipeline.fit(train_data, train_labels)"
   ]
  },
  {
   "cell_type": "code",
   "execution_count": 17,
   "metadata": {
    "collapsed": true
   },
   "outputs": [
    {
     "name": "stdout",
     "output_type": "stream",
     "text": [
      "Result for each digit: \n",
      "\n",
      "             precision    recall  f1-score   support\n",
      "\n",
      "          0       1.00      0.97      0.99        37\n",
      "          1       0.97      0.97      0.97        34\n",
      "          2       1.00      0.97      0.99        36\n",
      "          3       1.00      0.94      0.97        35\n",
      "          4       0.78      0.97      0.87        37\n",
      "          5       0.97      0.97      0.97        38\n",
      "          6       0.97      0.86      0.91        36\n",
      "          7       0.92      0.97      0.94        35\n",
      "          8       0.91      0.89      0.90        35\n",
      "          9       0.97      0.92      0.94        37\n",
      "\n",
      "avg / total       0.95      0.94      0.95       360\n",
      "\n"
     ]
    }
   ],
   "source": [
    "predicted = model.predict(test_data)\n",
    "print(\"Result for each digit: \\n\\n%s\" % metrics.classification_report(test_labels, predicted))"
   ]
  },
  {
   "cell_type": "code",
   "execution_count": 19,
   "metadata": {
    "collapsed": true
   },
   "outputs": [
    {
     "name": "stdout",
     "output_type": "stream",
     "text": [
      "Final Result (blind dataset): \n",
      "\n",
      "             precision    recall  f1-score   support\n",
      "\n",
      "          0       1.00      0.97      0.99        37\n",
      "          1       0.97      0.97      0.97        34\n",
      "          2       1.00      0.97      0.99        36\n",
      "          3       1.00      0.94      0.97        35\n",
      "          4       0.78      0.97      0.87        37\n",
      "          5       0.97      0.97      0.97        38\n",
      "          6       0.97      0.86      0.91        36\n",
      "          7       0.92      0.97      0.94        35\n",
      "          8       0.91      0.89      0.90        35\n",
      "          9       0.97      0.92      0.94        37\n",
      "\n",
      "avg / total       0.95      0.94      0.95       360\n",
      "\n"
     ]
    }
   ],
   "source": [
    "predict_final = model.predict(blind_data)\n",
    "print(\"Final Result (blind dataset): \\n\\n%s\" % metrics.classification_report(test_labels, predicted))"
   ]
  }
 ],
 "metadata": {
  "kernelspec": {
   "display_name": "Python 3",
   "language": "python",
   "name": "python3"
  },
  "language_info": {
   "codemirror_mode": {
    "name": "ipython",
    "version": 3
   },
   "file_extension": ".py",
   "mimetype": "text/x-python",
   "name": "python",
   "nbconvert_exporter": "python",
   "pygments_lexer": "ipython3",
   "version": "3.6.4"
  }
 },
 "nbformat": 4,
 "nbformat_minor": 2
}
